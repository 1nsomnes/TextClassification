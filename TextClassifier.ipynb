{
  "nbformat": 4,
  "nbformat_minor": 0,
  "metadata": {
    "colab": {
      "provenance": [],
      "authorship_tag": "ABX9TyNXxkJW5D4IXTzxwhqE1/uN",
      "include_colab_link": true
    },
    "kernelspec": {
      "name": "python3",
      "display_name": "Python 3"
    },
    "language_info": {
      "name": "python"
    }
  },
  "cells": [
    {
      "cell_type": "markdown",
      "metadata": {
        "id": "view-in-github",
        "colab_type": "text"
      },
      "source": [
        "<a href=\"https://colab.research.google.com/github/1nsomnes/TextClassification/blob/main/TextClassifier.ipynb\" target=\"_parent\"><img src=\"https://colab.research.google.com/assets/colab-badge.svg\" alt=\"Open In Colab\"/></a>"
      ]
    },
    {
      "cell_type": "code",
      "execution_count": 1,
      "metadata": {
        "colab": {
          "base_uri": "https://localhost:8080/"
        },
        "id": "65SdxqM9lukQ",
        "outputId": "8df550e1-c76b-4e11-c91b-2738f49e7bbc"
      },
      "outputs": [
        {
          "output_type": "stream",
          "name": "stdout",
          "text": [
            "--2025-03-03 20:42:24--  https://raw.githubusercontent.com/lazyprogrammer/machine_learning_examples/master/hmm_class/edgar_allan_poe.txt\n",
            "Resolving raw.githubusercontent.com (raw.githubusercontent.com)... 185.199.110.133, 185.199.111.133, 185.199.108.133, ...\n",
            "Connecting to raw.githubusercontent.com (raw.githubusercontent.com)|185.199.110.133|:443... connected.\n",
            "HTTP request sent, awaiting response... 200 OK\n",
            "Length: 26622 (26K) [text/plain]\n",
            "Saving to: ‘edgar_allan_poe.txt’\n",
            "\n",
            "\redgar_allan_poe.txt   0%[                    ]       0  --.-KB/s               \redgar_allan_poe.txt 100%[===================>]  26.00K  --.-KB/s    in 0.002s  \n",
            "\n",
            "2025-03-03 20:42:24 (16.6 MB/s) - ‘edgar_allan_poe.txt’ saved [26622/26622]\n",
            "\n",
            "--2025-03-03 20:42:24--  https://raw.githubusercontent.com/lazyprogrammer/machine_learning_examples/master/hmm_class/robert_frost.txt\n",
            "Resolving raw.githubusercontent.com (raw.githubusercontent.com)... 185.199.108.133, 185.199.109.133, 185.199.110.133, ...\n",
            "Connecting to raw.githubusercontent.com (raw.githubusercontent.com)|185.199.108.133|:443... connected.\n",
            "HTTP request sent, awaiting response... 200 OK\n",
            "Length: 56286 (55K) [text/plain]\n",
            "Saving to: ‘robert_frost.txt’\n",
            "\n",
            "robert_frost.txt    100%[===================>]  54.97K  --.-KB/s    in 0.01s   \n",
            "\n",
            "2025-03-03 20:42:25 (4.11 MB/s) - ‘robert_frost.txt’ saved [56286/56286]\n",
            "\n"
          ]
        }
      ],
      "source": [
        "!wget -nc https://raw.githubusercontent.com/lazyprogrammer/machine_learning_examples/master/hmm_class/edgar_allan_poe.txt\n",
        "!wget -nc https://raw.githubusercontent.com/lazyprogrammer/machine_learning_examples/master/hmm_class/robert_frost.txt"
      ]
    },
    {
      "cell_type": "code",
      "source": [
        "# imports\n",
        "\n",
        "from collections import defaultdict\n",
        "import numpy as np\n",
        "import math\n",
        "import random"
      ],
      "metadata": {
        "id": "-RQDw7GephBS"
      },
      "execution_count": 2,
      "outputs": []
    },
    {
      "cell_type": "code",
      "source": [
        "edgar_lines = []\n",
        "robert_lines = []\n",
        "\n",
        "with open(\"edgar_allan_poe.txt\") as f:\n",
        "  for line in f:\n",
        "    line = line.strip()\n",
        "    if line != \"\":\n",
        "      edgar_lines.append(line.strip())\n",
        "\n",
        "with open(\"robert_frost.txt\") as f:\n",
        "  for line in f:\n",
        "    line = line.strip()\n",
        "    line = line.strip(\",'.!-?\")\n",
        "    if line != \"\":\n",
        "      #print(line)\n",
        "      robert_lines.append(line.strip())\n",
        "\n",
        "print(f\"Length of Edgar Lines: {len(edgar_lines)}\")\n",
        "print(f\"Length of Robert Lines: {len(robert_lines)}\")\n",
        "\n"
      ],
      "metadata": {
        "colab": {
          "base_uri": "https://localhost:8080/"
        },
        "id": "444q2TR7eNlU",
        "outputId": "2325567f-62bf-4731-f825-778e8b47734a"
      },
      "execution_count": 3,
      "outputs": [
        {
          "output_type": "stream",
          "name": "stdout",
          "text": [
            "Length of Edgar Lines: 718\n",
            "Length of Robert Lines: 1436\n"
          ]
        }
      ]
    },
    {
      "cell_type": "code",
      "source": [
        "edgar_train = edgar_lines[:int(0.8*len(edgar_lines))]\n",
        "edgar_test = edgar_lines[int(0.8*len(edgar_lines)):]\n",
        "\n",
        "robert_train = robert_lines[:int(0.8*len(robert_lines))]\n",
        "robert_test = robert_lines[int(0.8*len(robert_lines)):]\n",
        "\n",
        "print(f\"Length of Edgar Train: {len(edgar_train)}, Length of Edgar Test: {len(edgar_test)}\")\n",
        "print(f\"Length of Robert Train: {len(robert_train)}, Length of Robert Test: {len(robert_test)}\")"
      ],
      "metadata": {
        "colab": {
          "base_uri": "https://localhost:8080/"
        },
        "id": "jJgAP0j1kc9s",
        "outputId": "7a694d08-44d5-4e87-fe43-ce84da930d01"
      },
      "execution_count": 4,
      "outputs": [
        {
          "output_type": "stream",
          "name": "stdout",
          "text": [
            "Length of Edgar Train: 574, Length of Edgar Test: 144\n",
            "Length of Robert Train: 1148, Length of Robert Test: 288\n"
          ]
        }
      ]
    },
    {
      "cell_type": "code",
      "source": [
        "combined_test = []\n",
        "for i, line in enumerate(edgar_test):\n",
        "    combined_test.append((line, True))\n",
        "for i, line in enumerate(robert_test):\n",
        "    combined_test.append((line, False))\n",
        "print(f\"Length of combined test: {len(combined_test)}\")\n"
      ],
      "metadata": {
        "colab": {
          "base_uri": "https://localhost:8080/"
        },
        "id": "C_IpuE9TlWHZ",
        "outputId": "d5f45a34-c540-437a-9242-4f0f45769e95"
      },
      "execution_count": 5,
      "outputs": [
        {
          "output_type": "stream",
          "name": "stdout",
          "text": [
            "Length of combined test: 432\n"
          ]
        }
      ]
    },
    {
      "cell_type": "code",
      "source": [
        "# helper functions\n",
        "\n",
        "def process_word(word):\n",
        "  return word.lower().strip(\".,-\\\"!:()?\")\n",
        "\n",
        "def build_markov_model(train):\n",
        "  word_dic = {}\n",
        "\n",
        "  index = 0\n",
        "  train_cleaned = []\n",
        "\n",
        "  # create the word data\n",
        "  for line in train:\n",
        "    words = line.split()\n",
        "    line_cleaned = []\n",
        "    for i in range(len(words)):\n",
        "\n",
        "      word = process_word(words[i])\n",
        "      if word == \"\":\n",
        "        continue\n",
        "      line_cleaned.append(word)\n",
        "      if word not in word_dic:\n",
        "        word_dic[word] = index\n",
        "        index += 1\n",
        "    train_cleaned.append(line_cleaned)\n",
        "\n",
        "  A = np.ones((index+1, index+1))\n",
        "  pi = np.ones((index+1,1))\n",
        "\n",
        "  for line in train_cleaned:\n",
        "    for i in range(len(line)):\n",
        "\n",
        "      word = line[i]\n",
        "      prev_word = line[i-1]\n",
        "\n",
        "      if i == 0:\n",
        "        pi[word_dic[word]] += 1\n",
        "      else:\n",
        "        A[word_dic[prev_word],word_dic[word]] += 1\n",
        "\n",
        "  pi = np.log(pi/(index+1))\n",
        "  for m in range(index+1):\n",
        "    log_m_sum = math.log(A[m, :].sum()+m) # add  m to correct for add one smoothing\n",
        "    A[m, :] = np.log(A[m, :]) - log_m_sum\n",
        "\n",
        "  return (A, pi, word_dic)\n",
        "\n"
      ],
      "metadata": {
        "id": "rIQpg0xiqDTA"
      },
      "execution_count": 6,
      "outputs": []
    },
    {
      "cell_type": "code",
      "source": [
        "# create probability matrices\n",
        "\n",
        "A, pi, edgar_dic = build_markov_model(edgar_train)\n",
        "A2, pi2, robert_dic = build_markov_model(robert_train)"
      ],
      "metadata": {
        "id": "xWt8pJRYmPCe"
      },
      "execution_count": 7,
      "outputs": []
    },
    {
      "cell_type": "code",
      "source": [
        "# similarity comparison\n",
        "\n",
        "def is_edgar(sentence):\n",
        "  words = sentence.split()\n",
        "  sequence = []\n",
        "  for word in words:\n",
        "    word = process_word(word)\n",
        "    if word == \"\":\n",
        "      continue\n",
        "    sequence.append(word)\n",
        "\n",
        "  edgar_sum = 0\n",
        "  robert_sum = 0\n",
        "\n",
        "  if sequence[0] in edgar_dic:\n",
        "    edgar_sum = pi[edgar_dic[sequence[0]]]\n",
        "  if sequence[0] in robert_dic:\n",
        "    robert_sum = pi2[robert_dic[sequence[0]]]\n",
        "\n",
        "  for i in range(1,len(sequence)):\n",
        "    if sequence[i] in edgar_dic and sequence[i-1] in edgar_dic:\n",
        "      edgar_sum += A[edgar_dic[sequence[i-1]], edgar_dic[sequence[i]]]\n",
        "    else:\n",
        "      edgar_sum += math.log(A.shape[0])\n",
        "    if sequence[i] in robert_dic and sequence[i-1] in robert_dic:\n",
        "      robert_sum += A2[robert_dic[sequence[i-1]], robert_dic[sequence[i]]]\n",
        "    else:\n",
        "      robert_sum += math.log(A2.shape[0])\n",
        "\n",
        "  if robert_sum > edgar_sum:\n",
        "    return False\n",
        "  return True"
      ],
      "metadata": {
        "id": "vgIF_1Y6VrxY"
      },
      "execution_count": 8,
      "outputs": []
    },
    {
      "cell_type": "code",
      "source": [
        "random.shuffle(combined_test)\n",
        "correct = 0\n",
        "for test in combined_test:\n",
        "  if is_edgar(test[0]) == test[1]:\n",
        "    correct += 1\n",
        "print(f\"Accuracy: {correct/len(combined_test)}\")"
      ],
      "metadata": {
        "colab": {
          "base_uri": "https://localhost:8080/"
        },
        "id": "61EwmufeYomq",
        "outputId": "82865345-ab17-42ef-b858-2d6846e79106"
      },
      "execution_count": 9,
      "outputs": [
        {
          "output_type": "stream",
          "name": "stdout",
          "text": [
            "Accuracy: 0.2152777777777778\n"
          ]
        }
      ]
    }
  ]
}