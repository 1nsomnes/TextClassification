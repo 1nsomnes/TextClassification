{
  "nbformat": 4,
  "nbformat_minor": 0,
  "metadata": {
    "colab": {
      "provenance": [],
      "authorship_tag": "ABX9TyNFb9uWhdinxKmOo2NNJcnb"
    },
    "kernelspec": {
      "name": "python3",
      "display_name": "Python 3"
    },
    "language_info": {
      "name": "python"
    }
  },
  "cells": [
    {
      "cell_type": "code",
      "execution_count": 1,
      "metadata": {
        "colab": {
          "base_uri": "https://localhost:8080/"
        },
        "id": "65SdxqM9lukQ",
        "outputId": "8df550e1-c76b-4e11-c91b-2738f49e7bbc"
      },
      "outputs": [
        {
          "output_type": "stream",
          "name": "stdout",
          "text": [
            "--2025-03-03 20:42:24--  https://raw.githubusercontent.com/lazyprogrammer/machine_learning_examples/master/hmm_class/edgar_allan_poe.txt\n",
            "Resolving raw.githubusercontent.com (raw.githubusercontent.com)... 185.199.110.133, 185.199.111.133, 185.199.108.133, ...\n",
            "Connecting to raw.githubusercontent.com (raw.githubusercontent.com)|185.199.110.133|:443... connected.\n",
            "HTTP request sent, awaiting response... 200 OK\n",
            "Length: 26622 (26K) [text/plain]\n",
            "Saving to: ‘edgar_allan_poe.txt’\n",
            "\n",
            "\redgar_allan_poe.txt   0%[                    ]       0  --.-KB/s               \redgar_allan_poe.txt 100%[===================>]  26.00K  --.-KB/s    in 0.002s  \n",
            "\n",
            "2025-03-03 20:42:24 (16.6 MB/s) - ‘edgar_allan_poe.txt’ saved [26622/26622]\n",
            "\n",
            "--2025-03-03 20:42:24--  https://raw.githubusercontent.com/lazyprogrammer/machine_learning_examples/master/hmm_class/robert_frost.txt\n",
            "Resolving raw.githubusercontent.com (raw.githubusercontent.com)... 185.199.108.133, 185.199.109.133, 185.199.110.133, ...\n",
            "Connecting to raw.githubusercontent.com (raw.githubusercontent.com)|185.199.108.133|:443... connected.\n",
            "HTTP request sent, awaiting response... 200 OK\n",
            "Length: 56286 (55K) [text/plain]\n",
            "Saving to: ‘robert_frost.txt’\n",
            "\n",
            "robert_frost.txt    100%[===================>]  54.97K  --.-KB/s    in 0.01s   \n",
            "\n",
            "2025-03-03 20:42:25 (4.11 MB/s) - ‘robert_frost.txt’ saved [56286/56286]\n",
            "\n"
          ]
        }
      ],
      "source": [
        "!wget -nc https://raw.githubusercontent.com/lazyprogrammer/machine_learning_examples/master/hmm_class/edgar_allan_poe.txt\n",
        "!wget -nc https://raw.githubusercontent.com/lazyprogrammer/machine_learning_examples/master/hmm_class/robert_frost.txt"
      ]
    },
    {
      "cell_type": "code",
      "source": [
        "# imports\n",
        "\n",
        "from collections import defaultdict\n",
        "import numpy as np\n",
        "import math\n",
        "import random\n",
        "import string\n",
        "from sklearn.model_selection import train_test_split"
      ],
      "metadata": {
        "id": "-RQDw7GephBS"
      },
      "execution_count": 10,
      "outputs": []
    },
    {
      "cell_type": "code",
      "source": [
        "input_files = [\n",
        "  'edgar_allan_poe.txt',\n",
        "  'robert_frost.txt',\n",
        "]"
      ],
      "metadata": {
        "id": "22g4sDU31Xcx"
      },
      "execution_count": 11,
      "outputs": []
    },
    {
      "cell_type": "code",
      "source": [
        "text = []\n",
        "labels = []\n",
        "\n",
        "\n",
        "for label, f in enumerate(input_files):\n",
        "  print(f\"{f} corresponds to label {label}\")\n",
        "\n",
        "  for line in open(f):\n",
        "    line = line.rstrip().lower()\n",
        "    if line:\n",
        "      # remove punctuation\n",
        "      line = line.translate(str.maketrans('', '', string.punctuation))\n",
        "\n",
        "      text.append(line)\n",
        "      labels.append(label)\n",
        "\n"
      ],
      "metadata": {
        "colab": {
          "base_uri": "https://localhost:8080/"
        },
        "id": "444q2TR7eNlU",
        "outputId": "1a601662-2de2-437c-d81a-ef2c4ddee623"
      },
      "execution_count": 13,
      "outputs": [
        {
          "output_type": "stream",
          "name": "stdout",
          "text": [
            "edgar_allan_poe.txt corresponds to label 0\n",
            "robert_frost.txt corresponds to label 1\n"
          ]
        }
      ]
    },
    {
      "cell_type": "code",
      "source": [
        "train_text, test_text, Ytrain, Ytest = train_test_split(text, labels)\n",
        "print(f\"Training Size: {len(Ytrain)}, Test Size: {len(Ytest)}\")"
      ],
      "metadata": {
        "colab": {
          "base_uri": "https://localhost:8080/"
        },
        "id": "jJgAP0j1kc9s",
        "outputId": "d6ef2911-a7e9-4feb-d81f-f2f7e079675f"
      },
      "execution_count": 14,
      "outputs": [
        {
          "output_type": "stream",
          "name": "stdout",
          "text": [
            "Training Size: 1615, Test Size: 539\n"
          ]
        }
      ]
    },
    {
      "cell_type": "code",
      "source": [
        "word2index = {\"<unk>\" : 0}\n",
        "index = 1\n",
        "\n",
        "for line in train_text:\n",
        "  words = line.split()\n",
        "  for word in words:\n",
        "    if word not in word2index:\n",
        "      word2index[word] = index\n",
        "      index += 1\n"
      ],
      "metadata": {
        "id": "C_IpuE9TlWHZ"
      },
      "execution_count": 16,
      "outputs": []
    },
    {
      "cell_type": "code",
      "source": [
        "train_text_int = []\n",
        "test_text_int = []\n",
        "\n",
        "for line in train_text:\n",
        "  words = line.split()\n",
        "  line_int = []\n",
        "  for word in words:\n",
        "    if word in word2index:\n",
        "      line_int.append(word2index[word])\n",
        "  train_text_int.append(line_int)\n",
        "\n",
        "\n",
        "for line in test_text:\n",
        "  words = line.split()\n",
        "  line_int = []\n",
        "  for word in words:\n",
        "    if word in word2index:\n",
        "      line_int.append(word2index[word])\n",
        "  test_text_int.append(line_int)\n",
        "\n",
        "print(train_text_int[:5])\n",
        "print(test_text_int[:5])"
      ],
      "metadata": {
        "colab": {
          "base_uri": "https://localhost:8080/"
        },
        "id": "ZGlJ_H1e-TlL",
        "outputId": "2880817e-db5c-4431-8374-2c22996b5c25"
      },
      "execution_count": 21,
      "outputs": [
        {
          "output_type": "stream",
          "name": "stdout",
          "text": [
            "[[1, 2, 3, 4, 5, 6, 7], [8, 2, 9, 10, 2, 11, 10, 2, 12, 10, 2, 13], [14, 15, 16, 17], [18, 19, 20, 21, 22, 23], [24, 10, 25, 26, 27, 28, 29, 9, 30, 31]]\n",
            "[[444, 93], [1781, 237, 183, 25], [86, 2, 146], [81, 86, 2482, 44, 156], [680, 168, 40, 445, 86, 18, 339, 1235]]\n"
          ]
        }
      ]
    },
    {
      "cell_type": "code",
      "source": [
        "V = len(word2index)\n",
        "\n",
        "A0 = np.ones((V, V))\n",
        "pi0 = np.ones(V)\n",
        "\n",
        "A1 = np.ones((V, V))\n",
        "pi1 = np.ones(V)"
      ],
      "metadata": {
        "id": "R-aRVX1uDRVv"
      },
      "execution_count": 46,
      "outputs": []
    },
    {
      "cell_type": "code",
      "source": [
        "def count_transitions(text_as_int, A, pi):\n",
        "  for line in text_as_int:\n",
        "    prev_word_idx = None\n",
        "    for word_idx in line:\n",
        "      if prev_word_idx is None:\n",
        "        pi[word_idx] += 1\n",
        "      else:\n",
        "        A[prev_word_idx, word_idx] += 1\n",
        "      prev_word_idx = word_idx\n",
        "\n",
        "count_transitions([s for s, y in zip(train_text_int, Ytrain) if y == 0], A0, pi0)\n",
        "count_transitions([s for s, y in zip(train_text_int, Ytrain) if y == 1], A1, pi1)"
      ],
      "metadata": {
        "id": "5zxRQk8dEBMK"
      },
      "execution_count": 47,
      "outputs": []
    },
    {
      "cell_type": "code",
      "source": [
        "# calculate now to prevent high precision errors\n",
        "A0_log_rows = np.log(A0.sum(axis=1, keepdims=True)) # has add one smoothing baked in\n",
        "A1_log_rows = np.log(A1.sum(axis=1, keepdims=True))\n",
        "\n",
        "p0_count_log = np.log(pi0.sum())\n",
        "p1_count_log = np.log(pi1.sum())\n",
        "\n",
        "# get log editions\n",
        "A0 = np.log(A0)\n",
        "pi0 = np.log(pi0)\n",
        "\n",
        "A1 = np.log(A1)\n",
        "pi1 = np.log(pi1)\n",
        "\n",
        "# remember log(m/b) = log(m) - log(b)\n",
        "\n",
        "A0 -= A0_log_rows\n",
        "A1 -= A1_log_rows\n",
        "\n",
        "pi0 -= p0_count_log\n",
        "pi1 -= p1_count_log"
      ],
      "metadata": {
        "id": "WujuswIhFjVZ"
      },
      "execution_count": 48,
      "outputs": []
    },
    {
      "cell_type": "markdown",
      "source": [
        "In this case we would like to know P(author|poem). This is the posterior. P(A) is the likelihood of the author, we can omit this if the probability of the authors are uniformly distributed. The likelihood is calculated as the probability a sequence occurs given it is a certain author. We classify by seeing for each markov model which sequence has the highest probability of being that particular author."
      ],
      "metadata": {
        "id": "g9RZBqYJLAb_"
      }
    },
    {
      "cell_type": "markdown",
      "source": [
        "![image.png](data:image/png;base64,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)"
      ],
      "metadata": {
        "id": "_5_fsIGJK12_"
      }
    },
    {
      "cell_type": "code",
      "source": [
        "# compute priors\n",
        "count0 = sum(y == 0 for y in Ytrain)\n",
        "count1 = sum(y == 1 for y in Ytrain)\n",
        "total = len(Ytrain)\n",
        "p0 = count0 / total\n",
        "p1 = count1 / total\n",
        "logp0 = np.log(p0)\n",
        "logp1 = np.log(p1)\n",
        "p0, p1"
      ],
      "metadata": {
        "colab": {
          "base_uri": "https://localhost:8080/"
        },
        "id": "oO6Vy15gMOcx",
        "outputId": "638b77fd-060d-4e99-dbb9-3554b81c26a0"
      },
      "execution_count": 49,
      "outputs": [
        {
          "output_type": "execute_result",
          "data": {
            "text/plain": [
              "(0.32941176470588235, 0.6705882352941176)"
            ]
          },
          "metadata": {},
          "execution_count": 49
        }
      ]
    },
    {
      "cell_type": "code",
      "source": [
        "# build a classifier\n",
        "class Classifier:\n",
        "  def __init__(self, logAs, logpis, logpriors):\n",
        "    self.logAs = logAs\n",
        "    self.logpis = logpis\n",
        "    self.logpriors = logpriors\n",
        "    self.K = len(logpriors) # number of classes\n",
        "\n",
        "  def _compute_log_likelihood(self, input_, class_):\n",
        "    logA = self.logAs[class_]\n",
        "    logpi = self.logpis[class_]\n",
        "\n",
        "    last_idx = None\n",
        "    logprob = 0\n",
        "    for idx in input_:\n",
        "      if last_idx is None:\n",
        "        # it's the first token\n",
        "        logprob += logpi[idx]\n",
        "      else:\n",
        "        logprob += logA[last_idx, idx]\n",
        "\n",
        "      # update last_idx\n",
        "      last_idx = idx\n",
        "\n",
        "    return logprob\n",
        "\n",
        "  def predict(self, inputs):\n",
        "    predictions = np.zeros(len(inputs))\n",
        "    for i, input_ in enumerate(inputs):\n",
        "      posteriors = [self._compute_log_likelihood(input_, c) + self.logpriors[c] \\\n",
        "             for c in range(self.K)]\n",
        "      pred = np.argmax(posteriors)\n",
        "      predictions[i] = pred\n",
        "    return predictions"
      ],
      "metadata": {
        "id": "BD1yJFV3MXCE"
      },
      "execution_count": 50,
      "outputs": []
    },
    {
      "cell_type": "code",
      "source": [
        "# each array must be in order since classes are assumed to index these lists\n",
        "clf = Classifier([A0, A1], [pi0, pi1], [logp0, logp1]) # we are using the posteriors"
      ],
      "metadata": {
        "id": "L7AYqMmUMYJU"
      },
      "execution_count": 70,
      "outputs": []
    },
    {
      "cell_type": "code",
      "source": [
        "Ptrain = clf.predict(train_text_int)\n",
        "print(f\"Train acc: {np.mean(Ptrain == Ytrain)}\")"
      ],
      "metadata": {
        "colab": {
          "base_uri": "https://localhost:8080/"
        },
        "id": "VOxo0iz8MiUQ",
        "outputId": "adabac7e-61f4-43c6-a51d-914cf5cd7d4b"
      },
      "execution_count": 71,
      "outputs": [
        {
          "output_type": "stream",
          "name": "stdout",
          "text": [
            "Train acc: 0.9975232198142415\n"
          ]
        }
      ]
    },
    {
      "cell_type": "code",
      "source": [
        "Ptest = clf.predict(test_text_int)\n",
        "print(f\"Test acc: {np.mean(Ptest == Ytest)}\")"
      ],
      "metadata": {
        "colab": {
          "base_uri": "https://localhost:8080/"
        },
        "id": "pFFfp0nhMkiZ",
        "outputId": "48078e41-865a-4177-91e2-be098d4e6aef"
      },
      "execution_count": 72,
      "outputs": [
        {
          "output_type": "stream",
          "name": "stdout",
          "text": [
            "Test acc: 0.8070500927643784\n"
          ]
        }
      ]
    }
  ]
}